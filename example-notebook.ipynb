{
 "cells": [
  {
   "cell_type": "markdown",
   "metadata": {},
   "source": [
    "## Predicting heart disease using machine learning\n",
    "\n",
    "This notebook looks into using various Python-based machine learning and data science libraries in an attempt to build a machine learning model capable of predicting whether or not someone has heart disease based on their medical attributes.\n",
    "\n",
    "We're going to take the following approach:\n",
    "\n",
    "<Small> 1. Problem definition </small>\n",
    "<small> 2. Data </small>\n",
    "<small> 3. Evaluation </small>\n",
    "<small> 4. Features </small>\n",
    "<small> 5. Modelling </small>\n",
    "<small> 6. Experimentation </small>"
   ]
  },
  {
   "cell_type": "markdown",
   "metadata": {},
   "source": [
    "![_](6-step-ml-framework.png)"
   ]
  },
  {
   "cell_type": "markdown",
   "metadata": {},
   "source": [
    "1. Problem Definiton\n",
    "\n",
    "<small> Given clinical parameters about a patient, can we predict whether or not they have heart disease? </small>"
   ]
  },
  {
   "cell_type": "markdown",
   "metadata": {},
   "source": [
    "2. Data\n",
    "\n",
    "<small> The original data came from the Cleavland data from the UCI Machine Learning Repository. https://archive.ics.uci.edu/ml/datasets/heart+Disease\n",
    "\n",
    "There is also a version of it available on Kaggle. https://www.kaggle.com/datasets/sumaiyatasmeem/heart-disease-classification-dataset </small>"
   ]
  },
  {
   "cell_type": "markdown",
   "metadata": {},
   "source": [
    "3. Evaluation\n",
    "\n",
    "<small> If we can reach 95% accuracy at predicting whether or not a patient has heart disease during the proof of concept, we'll pursue the projec </small>"
   ]
  },
  {
   "cell_type": "markdown",
   "metadata": {},
   "source": [
    "4. Features \n",
    "\n",
    "<small>This is where you'll get different information about each of the features in your data. You can do this via doing your own research (such as looking at the links above) or by talking to a subject matter expert (someone who knows about the dataset). </small>\n",
    "\n",
    "\n",
    "Create dat dictionary \n",
    "\n",
    "1. age - age in years\n",
    "\n",
    "2. sex - (1 = male; 0 = female)\n",
    "\n",
    "3. cp - chest pain type\n",
    "\n",
    "        0: Typical angina: chest pain related decrease blood supply to the heart\n",
    "\n",
    "        1: Atypical angina: chest pain not related to heart\n",
    "\n",
    "        2: Non-anginal pain: typically esophageal spasms (non heart related)\n",
    "        \n",
    "        3: Asymptomatic: chest pain not showing signs of disease\n",
    "\n",
    "4. trestbps - resting blood pressure (in mm Hg on admission to the hospital) anything above 130-140 is typically cause for concern\n",
    "\n",
    "5. chol - serum cholestoral in mg/dl\n",
    "\n",
    "        serum = LDL + HDL + .2 * triglycerides\n",
    "\n",
    "        above 200 is cause for concern\n",
    "\n",
    "6. fbs - (fasting blood sugar > 120 mg/dl) (1 = true; 0 = false)\n",
    "\n",
    "        '>126' mg/dL signals diabetes\n",
    "\n",
    "7. restecg - resting electrocardiographic results\n",
    "\n",
    "        0: Nothing to note\n",
    "\n",
    "        1: ST-T Wave abnormality\n",
    "\n",
    "                can range from mild symptoms to severe problems\n",
    "\n",
    "                signals non-normal heart beat\n",
    "\n",
    "        2: Possible or definite left ventricular hypertrophy\n",
    "\n",
    "                        Enlarged heart's main pumping chamber\n",
    "\n",
    "8. thalach - maximum heart rate achieved\n",
    "\n",
    "9. exang - exercise induced angina (1 = yes; 0 = no)\n",
    "\n",
    "10. oldpeak - ST depression induced by exercise relative to rest looks at stress of heart during excercise unhealthy heart will stress more\n",
    "\n",
    "11. slope - the slope of the peak exercise ST segment\n",
    "\n",
    "        0: Upsloping: better heart rate with excercise (uncommon)\n",
    "\n",
    "        1: Flatsloping: minimal change (typical healthy heart)\n",
    "\n",
    "        2: Downslopins: signs of unhealthy heart\n",
    "12. ca - number of major vessels (0-3) colored by flourosopy\n",
    "\n",
    "        colored vessel means the doctor can see the blood passing through\n",
    "\n",
    "        the more blood movement the better (no clots)\n",
    "\n",
    "12. thal - thalium stress result\n",
    "        \n",
    "        1,3: normal\n",
    "        \n",
    "        6: fixed defect: used to be defect but ok now\n",
    "        \n",
    "        7: reversable defect: no proper blood movement when excercising\n",
    "\n",
    "14. target - have disease or not (1=yes, 0=no) (= the predicted attribute)\n"
   ]
  },
  {
   "cell_type": "markdown",
   "metadata": {},
   "source": []
  }
 ],
 "metadata": {
  "kernelspec": {
   "display_name": "Python 3 (ipykernel)",
   "language": "python",
   "name": "python3"
  },
  "language_info": {
   "codemirror_mode": {
    "name": "ipython",
    "version": 3
   },
   "file_extension": ".py",
   "mimetype": "text/x-python",
   "name": "python",
   "nbconvert_exporter": "python",
   "pygments_lexer": "ipython3",
   "version": "3.11.7"
  }
 },
 "nbformat": 4,
 "nbformat_minor": 4
}
